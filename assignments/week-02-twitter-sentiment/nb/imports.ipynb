{
 "cells": [
  {
   "cell_type": "code",
   "execution_count": 1,
   "id": "dd8ca316",
   "metadata": {},
   "outputs": [
    {
     "name": "stdout",
     "output_type": "stream",
     "text": [
      "Requirement already satisfied: transformers in /Users/patrickgebhard/anaconda3/envs/sa/lib/python3.8/site-packages (4.25.1)\n",
      "Requirement already satisfied: torch in /Users/patrickgebhard/anaconda3/envs/sa/lib/python3.8/site-packages (1.13.0)\n",
      "Requirement already satisfied: tokenizers!=0.11.3,<0.14,>=0.11.1 in /Users/patrickgebhard/anaconda3/envs/sa/lib/python3.8/site-packages (from transformers) (0.13.2)\n",
      "Requirement already satisfied: filelock in /Users/patrickgebhard/anaconda3/envs/sa/lib/python3.8/site-packages (from transformers) (3.8.2)\n",
      "Requirement already satisfied: numpy>=1.17 in /Users/patrickgebhard/anaconda3/envs/sa/lib/python3.8/site-packages (from transformers) (1.23.5)\n",
      "Requirement already satisfied: requests in /Users/patrickgebhard/anaconda3/envs/sa/lib/python3.8/site-packages (from transformers) (2.28.1)\n",
      "Requirement already satisfied: regex!=2019.12.17 in /Users/patrickgebhard/anaconda3/envs/sa/lib/python3.8/site-packages (from transformers) (2022.10.31)\n",
      "Requirement already satisfied: pyyaml>=5.1 in /Users/patrickgebhard/anaconda3/envs/sa/lib/python3.8/site-packages (from transformers) (6.0)\n",
      "Requirement already satisfied: packaging>=20.0 in /Users/patrickgebhard/anaconda3/envs/sa/lib/python3.8/site-packages (from transformers) (21.3)\n",
      "Requirement already satisfied: tqdm>=4.27 in /Users/patrickgebhard/anaconda3/envs/sa/lib/python3.8/site-packages (from transformers) (4.64.1)\n",
      "Requirement already satisfied: huggingface-hub<1.0,>=0.10.0 in /Users/patrickgebhard/anaconda3/envs/sa/lib/python3.8/site-packages (from transformers) (0.11.1)\n",
      "Requirement already satisfied: typing-extensions in /Users/patrickgebhard/anaconda3/envs/sa/lib/python3.8/site-packages (from torch) (4.4.0)\n",
      "Requirement already satisfied: pyparsing!=3.0.5,>=2.0.2 in /Users/patrickgebhard/anaconda3/envs/sa/lib/python3.8/site-packages (from packaging>=20.0->transformers) (3.0.9)\n",
      "Requirement already satisfied: charset-normalizer<3,>=2 in /Users/patrickgebhard/anaconda3/envs/sa/lib/python3.8/site-packages (from requests->transformers) (2.0.4)\n",
      "Requirement already satisfied: idna<4,>=2.5 in /Users/patrickgebhard/anaconda3/envs/sa/lib/python3.8/site-packages (from requests->transformers) (3.4)\n",
      "Requirement already satisfied: urllib3<1.27,>=1.21.1 in /Users/patrickgebhard/anaconda3/envs/sa/lib/python3.8/site-packages (from requests->transformers) (1.26.13)\n",
      "Requirement already satisfied: certifi>=2017.4.17 in /Users/patrickgebhard/anaconda3/envs/sa/lib/python3.8/site-packages (from requests->transformers) (2022.9.24)\n",
      "Requirement already satisfied: emoji==0.6.0 in /Users/patrickgebhard/anaconda3/envs/sa/lib/python3.8/site-packages (0.6.0)\n"
     ]
    }
   ],
   "source": [
    "!pip install transformers torch\n",
    "!pip install emoji==0.6.0\n",
    "\n",
    "from transformers import pipeline\n",
    "\n",
    "pinstall = pipeline(model=\"finiteautomata/bertweet-base-sentiment-analysis\")"
   ]
  },
  {
   "cell_type": "code",
   "execution_count": null,
   "id": "347f01f5",
   "metadata": {},
   "outputs": [],
   "source": []
  }
 ],
 "metadata": {
  "kernelspec": {
   "display_name": "sa",
   "language": "python",
   "name": "python3"
  },
  "language_info": {
   "codemirror_mode": {
    "name": "ipython",
    "version": 3
   },
   "file_extension": ".py",
   "mimetype": "text/x-python",
   "name": "python",
   "nbconvert_exporter": "python",
   "pygments_lexer": "ipython3",
   "version": "3.8.15"
  },
  "vscode": {
   "interpreter": {
    "hash": "654f8977db4e88c947435946478e3f212c9b77e5b629ef93e603ff538f826b04"
   }
  }
 },
 "nbformat": 4,
 "nbformat_minor": 5
}
