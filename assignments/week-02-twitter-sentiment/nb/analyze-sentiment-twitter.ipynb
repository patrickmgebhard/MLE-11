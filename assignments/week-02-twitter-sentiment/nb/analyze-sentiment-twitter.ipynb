{
 "cells": [
  {
   "attachments": {},
   "cell_type": "markdown",
   "id": "24d097db",
   "metadata": {},
   "source": [
    "<p align = \"center\" draggable=”false” ><img src=\"https://user-images.githubusercontent.com/37101144/161836199-fdb0219d-0361-4988-bf26-48b0fad160a3.png\"\n",
    "     width=\"200px\"\n",
    "     height=\"auto\"/>\n",
    "</p>\n",
    "\n",
    "# <h1 align=\"center\" id=\"heading\">Sentiment Analysis of Twitter Data</h1>\n",
    "\n",
    "<hr>\n",
    "\n",
    "\n",
    "### ☑️ Objectives\n",
    "At the end of this session, you will be able to:\n",
    "- [x] Understand how to find and run pre-trained models\n",
    "- [x] Evaluate results from pre-trained models\n",
    "- [x] Run a pre-trained model using real twitter data\n",
    "\n",
    "\n",
    "### 🔨 Pre-Assignment\n",
    "\n",
    "Create a new Conda environment for sentiment anaylsis (sa)\n",
    "\n",
    "```bash\n",
    "  conda create -n sa python=3.8 jupyter -y\n",
    "```\n",
    "\n",
    "Activate your new environment\n",
    "```bash\n",
    "  conda activate sa\n",
    "```\n",
    "\n",
    "Open the jupyter-notebook\n",
    "```bash\n",
    "  jupyter-notebook\n",
    "```\n",
    "\n",
    "Navigate through the repo in the notebook to find `imports.ipynb` for this week and open it.\n",
    "\n",
    "Run all of the cells in the notebook.\n",
    "\n",
    "\n",
    "### Background\n",
    "Please review the weekly narrative [here](https://www.notion.so/Week-2-Data-Centric-AI-the-AI-Product-Lifecycle-72a84c1517b44fcbb3e6bd11d47477dc#2b73937612bb46559f5b91dc2bf55e7d)\n",
    "\n",
    "\n"
   ]
  },
  {
   "cell_type": "markdown",
   "id": "b3934e6e",
   "metadata": {},
   "source": [
    "<hr>"
   ]
  },
  {
   "cell_type": "markdown",
   "id": "d1a5ab14",
   "metadata": {},
   "source": [
    "## 🚀 Let's Get Started"
   ]
  },
  {
   "cell_type": "markdown",
   "id": "bea542cb",
   "metadata": {},
   "source": [
    "Let's first start with our imports"
   ]
  },
  {
   "cell_type": "code",
   "execution_count": 49,
   "id": "f67dcb2b",
   "metadata": {
    "scrolled": true
   },
   "outputs": [],
   "source": [
    "import csv # Allows us to read and write csv files\n",
    "from pprint import pprint # Make our print functions easier to read\n",
    "\n",
    "from transformers import pipeline # Hugging face pipeline to load online models"
   ]
  },
  {
   "cell_type": "markdown",
   "id": "62d4028f",
   "metadata": {},
   "source": [
    "🤗 Transformers provides thousands of pretrained models to perform tasks on different modalities such as text, vision, and audio.\n",
    "\n",
    "These models can be applied on:\n",
    "- 📝 Text, for tasks like text classification, information extraction, question answering, summarization, translation, text generation, in over 100 languages.\n",
    "\n",
    "- 🖼️ Images, for tasks like image classification, object detection, and segmentation.\n",
    "- 🗣️ Audio, for tasks like speech recognition and audio classification.\n",
    "\n",
    "This is the pipeline method in transformers that we'll be using to analyze our sentiment data. Since we're not specifying a pretrained model, the pipeline has a default sentiment analysis model called [distilbert-base-uncased-finetuned-sst-2-english](https://huggingface.co/distilbert-base-uncased-finetuned-sst-2-english)."
   ]
  },
  {
   "cell_type": "code",
   "execution_count": 50,
   "id": "9c3e6e41",
   "metadata": {},
   "outputs": [
    {
     "name": "stderr",
     "output_type": "stream",
     "text": [
      "No model was supplied, defaulted to distilbert-base-uncased-finetuned-sst-2-english and revision af0f99b (https://huggingface.co/distilbert-base-uncased-finetuned-sst-2-english).\n",
      "Using a pipeline without specifying a model name and revision in production is not recommended.\n"
     ]
    }
   ],
   "source": [
    "sentiment_pipeline = pipeline(\"sentiment-analysis\")"
   ]
  },
  {
   "cell_type": "markdown",
   "id": "e30b34b2",
   "metadata": {},
   "source": [
    "In this example, we'll supply two polar sentiments and test out the model pipeline."
   ]
  },
  {
   "cell_type": "code",
   "execution_count": 51,
   "id": "de41c494",
   "metadata": {},
   "outputs": [
    {
     "data": {
      "text/plain": [
       "[{'label': 'POSITIVE', 'score': 0.9998694658279419},\n",
       " {'label': 'NEGATIVE', 'score': 0.994263231754303}]"
      ]
     },
     "execution_count": 51,
     "metadata": {},
     "output_type": "execute_result"
    }
   ],
   "source": [
    "data = [\"This is great!\", \"Oh no!\"]\n",
    "sentiment_pipeline(data)"
   ]
  },
  {
   "cell_type": "markdown",
   "id": "39d04139",
   "metadata": {},
   "source": [
    "The `label` in this case indicates the prediction for the sentiment type.\n",
    "\n",
    "The `score` indicates the confidence of the prediction (between 0 and 1).\n",
    "\n",
    "Since our sentiments were very polar, it was easier for the model to predict the sentiment type.\n",
    "\n",
    "Let's see what happens when we use a less clear example:"
   ]
  },
  {
   "cell_type": "code",
   "execution_count": 52,
   "id": "c077f881",
   "metadata": {},
   "outputs": [
    {
     "data": {
      "text/plain": [
       "[{'label': 'NEGATIVE', 'score': 0.9955562949180603},\n",
       " {'label': 'NEGATIVE', 'score': 0.9860844016075134}]"
      ]
     },
     "execution_count": 52,
     "metadata": {},
     "output_type": "execute_result"
    }
   ],
   "source": [
    "challenging_sentiments = [\"I don't think freddriq should leave, he's been helpful.\",\n",
    "                          \"Is that the lake we went to last month?\"]\n",
    "sentiment_pipeline(challenging_sentiments)"
   ]
  },
  {
   "cell_type": "markdown",
   "id": "c64b62d4",
   "metadata": {},
   "source": [
    "<hr>\n",
    "\n",
    "### Loading the Twitter Data\n",
    "\n",
    "Let's play with some twitter data. We'll be using a modified version of the [Elon Musk twitter dataset on Kaggle](https://www.kaggle.com/datasets/andradaolteanu/all-elon-musks-tweets)."
   ]
  },
  {
   "cell_type": "code",
   "execution_count": 53,
   "id": "4c1a44d0",
   "metadata": {},
   "outputs": [
    {
     "name": "stdout",
     "output_type": "stream",
     "text": [
      "['@vincent13031925 For now. Costs are decreasing rapidly.',\n",
      " 'Love this beautiful shot',\n",
      " '@agnostoxxx @CathieDWood @ARKInvest Trust the shrub',\n",
      " 'The art In Cyberpunk is incredible',\n",
      " '@itsALLrisky 🤣🤣',\n",
      " '@seinfeldguru @WholeMarsBlog Nope haha',\n",
      " '@WholeMarsBlog If you don’t say anything &amp; engage Autopilot, it will '\n",
      " 'soon guess based on time of day, taking you home or to work or to what’s on '\n",
      " 'your calendar',\n",
      " '@DeltavPhotos @PortCanaveral That rocket is a hardcore veteran of many '\n",
      " 'missions',\n",
      " 'Blimps rock  https://t.co/e8cu5FkNOI',\n",
      " '@engineers_feed Due to lower gravity, you can travel from surface of Mars to '\n",
      " 'surface of Earth fairly easily with a single stage rocket. Earth to Mars is '\n",
      " 'vastly harder.',\n",
      " '@DrPhiltill Good thread',\n",
      " '@alexellisuk Pretty much',\n",
      " '@tesla_adri @WholeMarsBlog These things are best thought of as '\n",
      " 'probabilities. There are 5 forward-facing cameras. It is highly likely that '\n",
      " 'at least one of them will see multiple cars ahead.',\n",
      " '@WholeMarsBlog Sensors are a bitstream and cameras have several orders of '\n",
      " 'magnitude more bits/sec than radar (or lidar).   Radar must meaningfully '\n",
      " 'increase signal/noise of bitstream to be worth complexity of integrating '\n",
      " 'it.   As vision processing gets better, it just leaves radar far behind.',\n",
      " '@WholeMarsBlog When radar and vision disagree, which one do you believe? '\n",
      " 'Vision has much more precision, so better to double down on vision than do '\n",
      " 'sensor fusion.',\n",
      " '@WholeMarsBlog This is a major problem!',\n",
      " 'Just needs some legs',\n",
      " 'The Starship launch tower that catches the giant rocket booster is basically '\n",
      " 'Mechazilla',\n",
      " 'But wait how is the core of the earth lit by the sun? Stop asking '\n",
      " 'questions!!',\n",
      " 'Kong vs Godzilla has record for most meth ever consumed in a writer’s room',\n",
      " '@itsALLrisky 💯',\n",
      " '… going to moon very soon',\n",
      " '@Matsu_Kusarine @jagarikin Actually happened to me in Cyberpunk haha',\n",
      " '@TimBirks1 @Erdayastronaut @SpaceX Pretty much',\n",
      " '@memescryptor !',\n",
      " 'Where is Shrek 5!?  https://t.co/PqAZ5Mg8Es',\n",
      " '@AustinTeslaClub @OwenSparks_ @WholeMarsBlog Good point.   Next major '\n",
      " 'software rev will do much better with automating wipers, seat heating &amp; '\n",
      " 'defrost.   Probable seat settings just based on occupant mass distribution '\n",
      " 'should be possible.',\n",
      " '@Adamklotz_ @OwenSparks_ @WholeMarsBlog Yup',\n",
      " '@teslaownersSV @neuralink Turns out 🐒 love video games &amp; snacks just '\n",
      " 'like us!',\n",
      " 'It’s all about the cufflinks  https://t.co/elccqC0Zuf',\n",
      " '@chicago_glenn I feel like this sometimes',\n",
      " '@OwenSparks_ @WholeMarsBlog It will',\n",
      " '@OwenSparks_ @WholeMarsBlog Remove',\n",
      " '@w00ki33 @SpaceX @SuperclusterHQ Simulation is improving rendering '\n",
      " 'resolution  …',\n",
      " '@cleantechnica Congrats to NIO. That is a tough milestone.',\n",
      " '@WholeMarsBlog Almost ready with FSD Beta V9.0. Step change improvement is '\n",
      " 'massive, especially for weird corner cases &amp; bad weather. Pure vision, '\n",
      " 'no radar.',\n",
      " 'Thanks to all that helped SpaceX!',\n",
      " 'Just read it. Book is accurate.',\n",
      " '@TeslaGong Yeah',\n",
      " '@mikevanbus @TrungTPhan @neuralink Pretty much',\n",
      " ' https://t.co/XeQursZpvq',\n",
      " 'Soon our monkey will be on twitch &amp; discord haha',\n",
      " '@thenewsoncnbc @contessabrewer Good piece!',\n",
      " '@Kyler_Knoll @neuralink Comes with wireless charging baseball cap',\n",
      " '@TarekWaked @TechCrunch @etherington Pretty much 🤣🤣 Great episode!',\n",
      " 'A monkey is literally playing a video game telepathically using a brain '\n",
      " 'chip!!',\n",
      " '@lexfridman @neuralink Yes',\n",
      " 'The device is implanted flush with skull &amp; charges wirelessly, so you '\n",
      " 'look &amp; feel totally normal',\n",
      " '@IheartTesla Absolutely doable. Possibly as soon as Neuralink device version '\n",
      " '2, highly likely by version 3.',\n",
      " 'Later versions will be able to shunt signals from Neuralinks in brain to '\n",
      " 'Neuralinks in body motor/sensory neuron clusters, thus enabling, for '\n",
      " 'example, paraplegics to walk again',\n",
      " '@mindofkacper @neuralink Yes',\n",
      " 'First @Neuralink product will enable someone with paralysis to use a '\n",
      " 'smartphone with their mind faster than someone using thumbs',\n",
      " '@IheartTesla @neuralink Hopefully, later this year',\n",
      " '@tobyliiiiiiiiii Sure',\n",
      " 'Monkey plays Pong with his mind',\n",
      " '@dogeofficialceo @WatchersTank @SpaceX Looking at pups soon!',\n",
      " '@jordanxmajel @WatchersTank @SpaceX Shock absorption is built into tower '\n",
      " 'arms. Since tower is ground side, it can use a lot more mass to arrest '\n",
      " 'booster downward momentum.',\n",
      " '@jordanxmajel @WatchersTank @SpaceX Load points just below the grid fins',\n",
      " '@WatchersTank @SpaceX Just one skyscraper catching another nbd haha',\n",
      " 'Thanks Tesla suppliers for providing us with critical parts!',\n",
      " '@MarkJam93765764 @IvanEscobosa A tidal wave of vaccine is being produced!',\n",
      " '@jgrano305 Probably J&amp;J, but BioNtech &amp; Moderna are good too. Some '\n",
      " 'debate imo as to whether a second synthetic mRNA shot is really needed, but '\n",
      " 'the first is a no-brainer.',\n",
      " '@IvanEscobosa Latter',\n",
      " 'To be clear, I do support vaccines in general &amp; covid vaccines '\n",
      " 'specifically. The science is unequivocal.   In very rare cases, there is an '\n",
      " 'allergic reaction, but this is easily addressed with an EpiPen.',\n",
      " '@DavidWillisSLS @_Jevis_ @PPathole Needs legs for moon &amp; Mars',\n",
      " '@SciGuySpace Global payload to orbit is the key metric',\n",
      " '@Julius_Burton @Erdayastronaut @DJSnM @NASASpaceflight @ChrisG_NSF '\n",
      " '@thejackbeyer @FelixSchlang Nice',\n",
      " '@_Jevis_ @PPathole Ideal scenario imo is catching Starship in horizontal '\n",
      " '“glide” with no landing burn, although that is quite a challenge for the '\n",
      " 'tower! Next best is catching with tower, with emergency pad landing mode on '\n",
      " 'skirt (no legs).',\n",
      " '@PPathole Starship booster, largest flying object ever designed, will be '\n",
      " 'caught out of sky by launch tower. Big step forward, as reflight can be done '\n",
      " 'in under an hour.',\n",
      " '@WholeMarsBlog Well-written and fair, much like his articles on space',\n",
      " '@louisssdev @flcnhvy Coming soon. Crazy number of launches this year!',\n",
      " '@flcnhvy They will be recovered from the water &amp; reused',\n",
      " '“Tanks for the memery!” – Panzer of the Lake',\n",
      " '@CathieDWood @wintonARK @ARKInvest What do you think of the unusually high '\n",
      " 'ratio of S&amp;P market cap to GDP?',\n",
      " '@ID_AA_Carmack Some kind of ELO level, updated once or twice a year based on '\n",
      " 'what someone actually got done, might be most effective. Important that it '\n",
      " 'go both up *and* down.',\n",
      " '@Thomas38697956 New &amp; improved version!',\n",
      " '@Teslarati @ResidentSponge Special mention of Tesla China',\n",
      " '@shbzz Obv',\n",
      " '@Teslarati @ResidentSponge Great work by Tesla team!',\n",
      " '@EvaFoxU Nice',\n",
      " 'The Earth is not flat, it’s a hollow globe &amp; Donkey King lives there!',\n",
      " '@EvaFoxU Those two really could have come in handy for the stuck ship!',\n",
      " '@EvaFoxU Last Kingdom vs Vikings',\n",
      " '@spacex360 Ascent phase, transition to horizontal &amp; control during free '\n",
      " 'fall were good.   A (relatively) small CH4 leak led to fire on engine 2 '\n",
      " '&amp; fried part of avionics, causing hard start attempting landing burn in '\n",
      " 'CH4 turbopump.   This is getting fixed 6 ways to Sunday.',\n",
      " 'Godzilla vs Kong is so amaze much wow! Most insane movie I’ve ever seen! '\n",
      " 'Love letter to conspiracy theorists! And yet heartwarming in the end.',\n",
      " '@TerminalCount The Starships feast in Valhalla!',\n",
      " '@TerminalCount One of the greatest things I’ve ever seen',\n",
      " '@floko12022021 @HamblinZeke @katlinegrey Ich habe ein Semester Deutsch an '\n",
      " 'der Universität studiert usw',\n",
      " '@HamblinZeke @katlinegrey Haha Falcon? Nein!',\n",
      " '@tobyliiiiiiiiii @katlinegrey I recommend propulsive landing, as that is '\n",
      " 'extensible to planets, moons &amp; asteroids. Wings &amp; runways are '\n",
      " 'limited to Earth.',\n",
      " '@PPathole @katlinegrey For practical purposes, there is no limit. It will '\n",
      " 'just get increasingly difficult to service.',\n",
      " '@katlinegrey This a good path, but I recommend aiming for full reusability',\n",
      " 'Urgent need to build more housing in greater Austin area!',\n",
      " 'Austin++',\n",
      " 'No it doesn’t hurt at all 🩸  https://t.co/NnL6o1si0V',\n",
      " '@allrocketsboi True',\n",
      " '@GerberKawasaki I fried a lot of neurons on that problem!',\n",
      " 'Me in my sick new car (left him the money)  https://t.co/EGaY1FVfHm',\n",
      " '@TrungTPhan Had no money to invest in Zip2, but my founder equity yielded '\n",
      " '~$15M after tax. Of that, I rolled ~$10M into PayPal, which yielded ~$180M, '\n",
      " 'then …   Basic principle is that I would not ask investors to risk money on '\n",
      " 'my company if I would not also do so.',\n",
      " '@Gfilche Major new Supercharger station coming to Santa Monica soon! Hoping '\n",
      " 'to have 50’s diner &amp; 100 best movie clips playing too. Thanks Santa '\n",
      " 'Monica city!']\n"
     ]
    }
   ],
   "source": [
    "with open('../data/elonmusk_tweets.csv', newline='', encoding='utf8') as f:\n",
    "    tweets=[]\n",
    "    reader = csv.reader(f)\n",
    "    twitter_data = list(reader)\n",
    "    for tweet in twitter_data:\n",
    "        tweets.append(tweet[0])\n",
    "\n",
    "pprint(tweets[:100])"
   ]
  },
  {
   "cell_type": "markdown",
   "id": "e630a8f1",
   "metadata": {},
   "source": [
    "First things first - let's look at the sentiment as determined by the [distilbert-base-uncased-finetuned-sst-2-english](https://huggingface.co/distilbert-base-uncased-finetuned-sst-2-english) (default model) in the pipeline."
   ]
  },
  {
   "cell_type": "code",
   "execution_count": 54,
   "id": "42b10279",
   "metadata": {},
   "outputs": [],
   "source": [
    "distil_sentiment = sentiment_pipeline(tweets[0:100])"
   ]
  },
  {
   "cell_type": "markdown",
   "id": "8ce3fefd",
   "metadata": {},
   "source": [
    "Let's check out the distribution of positive/negative Tweets and see the breakdown using Python's 🐍 standard library `collections.Counter`!"
   ]
  },
  {
   "cell_type": "code",
   "execution_count": 55,
   "id": "971a841d",
   "metadata": {},
   "outputs": [
    {
     "name": "stdout",
     "output_type": "stream",
     "text": [
      "49 (49.00%) of the tweets classified are positive.\n",
      "51 (51.00%) of the tweets classified are negative.\n"
     ]
    }
   ],
   "source": [
    "from collections import Counter\n",
    "\n",
    "tweet_distro = Counter([x['label'] for x in distil_sentiment])\n",
    "pos_sent_count = tweet_distro['POSITIVE']\n",
    "neg_sent_count = tweet_distro['NEGATIVE']\n",
    "total_sent_count = sum(tweet_distro.values())\n",
    "\n",
    "print(f\"{pos_sent_count} ({pos_sent_count / total_sent_count * 100:.2f}%) of the tweets classified are positive.\")\n",
    "print(f\"{neg_sent_count} ({neg_sent_count / total_sent_count * 100:.2f}%) of the tweets classified are negative.\")"
   ]
  },
  {
   "cell_type": "markdown",
   "id": "42155a0c",
   "metadata": {},
   "source": [
    "Let's do that process again, but use a model with an additional potential label \"NEUTRAL\" called [bertweet-sentiment-analysis](https://huggingface.co/finiteautomata/bertweet-base-sentiment-analysis)\n",
    "\n",
    "To start - we'll build a pipeline with the new model by using the 🤗 Hugging Face address: `finiteautomata/bertweet-base-sentiment-analysis`"
   ]
  },
  {
   "cell_type": "code",
   "execution_count": 56,
   "id": "3fd6e37f",
   "metadata": {},
   "outputs": [],
   "source": [
    "bertweet_pipeline = pipeline(model=\"finiteautomata/bertweet-base-sentiment-analysis\")"
   ]
  },
  {
   "cell_type": "markdown",
   "id": "7025127d",
   "metadata": {},
   "source": [
    "Next, and the same as before, let's run the analysis on 100 of Elon's tweets."
   ]
  },
  {
   "cell_type": "code",
   "execution_count": 57,
   "id": "5daa650d",
   "metadata": {},
   "outputs": [],
   "source": [
    "bert_sentiment = bertweet_pipeline(tweets[0:100])"
   ]
  },
  {
   "cell_type": "markdown",
   "id": "6d8a316d",
   "metadata": {},
   "source": [
    "And then, let's check out the breakdown of positive, negative, AND neutral sentiments!"
   ]
  },
  {
   "cell_type": "code",
   "execution_count": 58,
   "id": "6996cc58",
   "metadata": {},
   "outputs": [
    {
     "name": "stdout",
     "output_type": "stream",
     "text": [
      "29 (29.00%) of the tweets classified are positive.\n",
      "64 (64.00%) of the tweets classified are neutral.\n",
      "7 (7.00%) of the tweets classified are negative.\n"
     ]
    }
   ],
   "source": [
    "from collections import Counter\n",
    "\n",
    "tweet_distro = Counter([x['label'] for x in bert_sentiment])\n",
    "pos_sent_count = tweet_distro['POS']\n",
    "neu_sent_count = tweet_distro['NEU']\n",
    "neg_sent_count = tweet_distro['NEG']\n",
    "total_sent_count = sum(tweet_distro.values())\n",
    "\n",
    "print(f\"{pos_sent_count} ({pos_sent_count / total_sent_count * 100:.2f}%) of the tweets classified are positive.\")\n",
    "print(f\"{neu_sent_count} ({neu_sent_count / total_sent_count * 100:.2f}%) of the tweets classified are neutral.\")\n",
    "print(f\"{neg_sent_count} ({neg_sent_count / total_sent_count * 100:.2f}%) of the tweets classified are negative.\")"
   ]
  },
  {
   "attachments": {},
   "cell_type": "markdown",
   "id": "8185798d",
   "metadata": {},
   "source": [
    "❓ What do you notice about the difference in the results?<br />\n",
    "**Answer:** `distilbert-base` classifies more tweets as negative than positive whereas `bertweet-base` puts more into positive than negative AND has a neutral category as well taking up the majority of the tweets.\n",
    "\n",
    "❓ Do the results for the `bertweet-base` model look better, or worse, than the results for the `distilbert-base` model? Why?<br />\n",
    "**Answer:** The results for the `bertweet-base` model are better, because it also categorizes tweets as \"neutral\" not only \"positive\" or \"negative\". I think that better reflects as there are simply factual statements such as \"It's 9 AM\", which cannot be categorized as positive or negative."
   ]
  },
  {
   "cell_type": "markdown",
   "id": "6684f9ae",
   "metadata": {},
   "source": [
    "<hr>\n",
    "\n",
    "### Partner Exercise\n",
    "\n",
    "With your partner, try and determine what the following tweets might be classified as. Try to classify them into the same groups as both of the model pipelines we saw today - and try adding a few of your own sentences/Tweets! "
   ]
  },
  {
   "cell_type": "code",
   "execution_count": 59,
   "id": "dcc55db9",
   "metadata": {},
   "outputs": [],
   "source": [
    "example_difficult_tweets = [\n",
    "    \"Kong vs Godzilla has record for most meth ever consumed in a writer's room\",\n",
    "    \"@ashleevance Battery energy density is the key to electric aircraft. Autonomy for aircraft could have been done a long time ago. Modern airliners are very close to autonomous.\",\n",
    "    \"Tesla's action is not directly reflective of my opinion. Having some Bitcoin, which is simply a less dumb form of liquidity than cash, is adventurous enough for an S&P500 company.\",\n",
    "    \"I'm the biggest of Dua Lipa. She is the best.\",\n",
    "    \"I really hate rain.\",\n",
    "    \"It's 1 p.m. right now.\",\n",
    "    \"It's 2 a.m. right now.\",\n",
    "    \"It's 3 a.m. right now.\",\n",
    "    \"It's 4 a.m. right now.\",\n",
    "    \"It's 5 a.m. right now.\",\n",
    "    \"It's 6 a.m. right now.\",\n",
    "    \"It's 7 a.m. right now.\",\n",
    "    \"It's 8 a.m. right now.\",\n",
    "    \"It's 9 a.m. right now.\",\n",
    "    \"It's 10 a.m. right now.\",\n",
    "    \"It's 11 a.m. right now.\",\n",
    "    \"It's noon right now.\",\n",
    "    \"It's 1 p.m. right now.\",\n",
    "    \"It's 2 p.m. right now.\",\n",
    "    \"It's 3 p.m. right now.\",\n",
    "    \"It's 4 p.m. right now.\",\n",
    "    \"It's 5 p.m. right now.\",\n",
    "    \"It's 6 p.m. right now.\",\n",
    "    \"It's 7 p.m. right now.\",\n",
    "    \"It's 8 p.m. right now.\",\n",
    "    \"It's 9 p.m. right now.\",\n",
    "    \"It's 10 p.m. right now.\",\n",
    "    \"It's 11 p.m. right now.\",\n",
    "    \"It's midnight right now.\",\n",
    "]"
   ]
  },
  {
   "cell_type": "markdown",
   "id": "324e3837",
   "metadata": {},
   "source": [
    "The `distilbert-base` model:"
   ]
  },
  {
   "cell_type": "code",
   "execution_count": 60,
   "id": "3fd3d5a9",
   "metadata": {},
   "outputs": [
    {
     "name": "stdout",
     "output_type": "stream",
     "text": [
      "[{'label': 'POSITIVE', 'score': 0.5429078936576843}]\n",
      "Kong vs Godzilla has record for most meth ever consumed in a writer's room\n",
      "\n",
      "[{'label': 'NEGATIVE', 'score': 0.634838342666626}]\n",
      "@ashleevance Battery energy density is the key to electric aircraft. Autonomy for aircraft could have been done a long time ago. Modern airliners are very close to autonomous.\n",
      "\n",
      "[{'label': 'POSITIVE', 'score': 0.9419694542884827}]\n",
      "Tesla's action is not directly reflective of my opinion. Having some Bitcoin, which is simply a less dumb form of liquidity than cash, is adventurous enough for an S&P500 company.\n",
      "\n",
      "[{'label': 'POSITIVE', 'score': 0.9998514652252197}]\n",
      "I'm the biggest of Dua Lipa. She is the best.\n",
      "\n",
      "[{'label': 'NEGATIVE', 'score': 0.9934224486351013}]\n",
      "I really hate rain.\n",
      "\n",
      "[{'label': 'POSITIVE', 'score': 0.9847059845924377}]\n",
      "It's 1 p.m. right now.\n",
      "\n",
      "[{'label': 'POSITIVE', 'score': 0.9702044725418091}]\n",
      "It's 2 a.m. right now.\n",
      "\n",
      "[{'label': 'POSITIVE', 'score': 0.985375702381134}]\n",
      "It's 3 a.m. right now.\n",
      "\n",
      "[{'label': 'POSITIVE', 'score': 0.9799401164054871}]\n",
      "It's 4 a.m. right now.\n",
      "\n",
      "[{'label': 'POSITIVE', 'score': 0.9874042272567749}]\n",
      "It's 5 a.m. right now.\n",
      "\n",
      "[{'label': 'POSITIVE', 'score': 0.9880964756011963}]\n",
      "It's 6 a.m. right now.\n",
      "\n",
      "[{'label': 'POSITIVE', 'score': 0.9852521419525146}]\n",
      "It's 7 a.m. right now.\n",
      "\n",
      "[{'label': 'POSITIVE', 'score': 0.9873671531677246}]\n",
      "It's 8 a.m. right now.\n",
      "\n",
      "[{'label': 'POSITIVE', 'score': 0.9912694692611694}]\n",
      "It's 9 a.m. right now.\n",
      "\n",
      "[{'label': 'POSITIVE', 'score': 0.9878766536712646}]\n",
      "It's 10 a.m. right now.\n",
      "\n",
      "[{'label': 'POSITIVE', 'score': 0.9821412563323975}]\n",
      "It's 11 a.m. right now.\n",
      "\n",
      "[{'label': 'POSITIVE', 'score': 0.9974372386932373}]\n",
      "It's noon right now.\n",
      "\n",
      "[{'label': 'POSITIVE', 'score': 0.9847059845924377}]\n",
      "It's 1 p.m. right now.\n",
      "\n",
      "[{'label': 'POSITIVE', 'score': 0.9747720956802368}]\n",
      "It's 2 p.m. right now.\n",
      "\n",
      "[{'label': 'POSITIVE', 'score': 0.9825109839439392}]\n",
      "It's 3 p.m. right now.\n",
      "\n",
      "[{'label': 'POSITIVE', 'score': 0.9819799661636353}]\n",
      "It's 4 p.m. right now.\n",
      "\n",
      "[{'label': 'POSITIVE', 'score': 0.9856200218200684}]\n",
      "It's 5 p.m. right now.\n",
      "\n",
      "[{'label': 'POSITIVE', 'score': 0.9861650466918945}]\n",
      "It's 6 p.m. right now.\n",
      "\n",
      "[{'label': 'POSITIVE', 'score': 0.9814769625663757}]\n",
      "It's 7 p.m. right now.\n",
      "\n",
      "[{'label': 'POSITIVE', 'score': 0.9853779077529907}]\n",
      "It's 8 p.m. right now.\n",
      "\n",
      "[{'label': 'POSITIVE', 'score': 0.9905101656913757}]\n",
      "It's 9 p.m. right now.\n",
      "\n",
      "[{'label': 'POSITIVE', 'score': 0.9888553023338318}]\n",
      "It's 10 p.m. right now.\n",
      "\n",
      "[{'label': 'POSITIVE', 'score': 0.983831524848938}]\n",
      "It's 11 p.m. right now.\n",
      "\n",
      "[{'label': 'POSITIVE', 'score': 0.9955434203147888}]\n",
      "It's midnight right now.\n",
      "\n"
     ]
    }
   ],
   "source": [
    "for tweet in example_difficult_tweets[0:1000]:\n",
    "    pprint(sentiment_pipeline(tweet))\n",
    "    print(tweet + '\\n')"
   ]
  },
  {
   "cell_type": "markdown",
   "id": "61230295",
   "metadata": {},
   "source": [
    "The `bertweet-base` model:"
   ]
  },
  {
   "cell_type": "code",
   "execution_count": 61,
   "id": "82f2d3e2",
   "metadata": {},
   "outputs": [
    {
     "name": "stdout",
     "output_type": "stream",
     "text": [
      "[{'label': 'NEG', 'score': 0.7213016152381897}]\n",
      "Kong vs Godzilla has record for most meth ever consumed in a writer's room\n",
      "\n",
      "[{'label': 'NEU', 'score': 0.8023841977119446}]\n",
      "@ashleevance Battery energy density is the key to electric aircraft. Autonomy for aircraft could have been done a long time ago. Modern airliners are very close to autonomous.\n",
      "\n",
      "[{'label': 'NEU', 'score': 0.8843539953231812}]\n",
      "Tesla's action is not directly reflective of my opinion. Having some Bitcoin, which is simply a less dumb form of liquidity than cash, is adventurous enough for an S&P500 company.\n",
      "\n",
      "[{'label': 'POS', 'score': 0.9919482469558716}]\n",
      "I'm the biggest of Dua Lipa. She is the best.\n",
      "\n",
      "[{'label': 'NEG', 'score': 0.981320321559906}]\n",
      "I really hate rain.\n",
      "\n",
      "[{'label': 'NEU', 'score': 0.9683323502540588}]\n",
      "It's 1 p.m. right now.\n",
      "\n",
      "[{'label': 'NEU', 'score': 0.9755740165710449}]\n",
      "It's 2 a.m. right now.\n",
      "\n",
      "[{'label': 'NEU', 'score': 0.9742955565452576}]\n",
      "It's 3 a.m. right now.\n",
      "\n",
      "[{'label': 'NEU', 'score': 0.9748250246047974}]\n",
      "It's 4 a.m. right now.\n",
      "\n",
      "[{'label': 'NEU', 'score': 0.9736006855964661}]\n",
      "It's 5 a.m. right now.\n",
      "\n",
      "[{'label': 'NEU', 'score': 0.9736875295639038}]\n",
      "It's 6 a.m. right now.\n",
      "\n",
      "[{'label': 'NEU', 'score': 0.9732857942581177}]\n",
      "It's 7 a.m. right now.\n",
      "\n",
      "[{'label': 'NEU', 'score': 0.9734285473823547}]\n",
      "It's 8 a.m. right now.\n",
      "\n",
      "[{'label': 'NEU', 'score': 0.9727506041526794}]\n",
      "It's 9 a.m. right now.\n",
      "\n",
      "[{'label': 'NEU', 'score': 0.9715676307678223}]\n",
      "It's 10 a.m. right now.\n",
      "\n",
      "[{'label': 'NEU', 'score': 0.9729148745536804}]\n",
      "It's 11 a.m. right now.\n",
      "\n",
      "[{'label': 'NEU', 'score': 0.9544965028762817}]\n",
      "It's noon right now.\n",
      "\n",
      "[{'label': 'NEU', 'score': 0.9683323502540588}]\n",
      "It's 1 p.m. right now.\n",
      "\n",
      "[{'label': 'NEU', 'score': 0.9768877029418945}]\n",
      "It's 2 p.m. right now.\n",
      "\n",
      "[{'label': 'NEU', 'score': 0.9744147658348083}]\n",
      "It's 3 p.m. right now.\n",
      "\n",
      "[{'label': 'NEU', 'score': 0.9718100428581238}]\n",
      "It's 4 p.m. right now.\n",
      "\n",
      "[{'label': 'NEU', 'score': 0.9710628390312195}]\n",
      "It's 5 p.m. right now.\n",
      "\n",
      "[{'label': 'NEU', 'score': 0.9699222445487976}]\n",
      "It's 6 p.m. right now.\n",
      "\n",
      "[{'label': 'NEU', 'score': 0.9698843359947205}]\n",
      "It's 7 p.m. right now.\n",
      "\n",
      "[{'label': 'NEU', 'score': 0.9698595404624939}]\n",
      "It's 8 p.m. right now.\n",
      "\n",
      "[{'label': 'NEU', 'score': 0.9679014086723328}]\n",
      "It's 9 p.m. right now.\n",
      "\n",
      "[{'label': 'NEU', 'score': 0.9631906151771545}]\n",
      "It's 10 p.m. right now.\n",
      "\n",
      "[{'label': 'NEU', 'score': 0.9663804769515991}]\n",
      "It's 11 p.m. right now.\n",
      "\n",
      "[{'label': 'NEU', 'score': 0.9759111404418945}]\n",
      "It's midnight right now.\n",
      "\n"
     ]
    }
   ],
   "source": [
    "for tweet in example_difficult_tweets[0:1000]:\n",
    "    pprint(bertweet_pipeline(tweet))\n",
    "    print(tweet + '\\n')"
   ]
  },
  {
   "attachments": {},
   "cell_type": "markdown",
   "id": "97f2c1c5",
   "metadata": {},
   "source": [
    "❓ How did you do? Did you find any surprising results?<br />\n",
    "**Answer:** My estimates are pretty much the same as the `bertweet-base`. It does not make sense to only have a positive and negative category in my opinion.\n",
    "\n",
    "❓ Are there any instances where the two models gave different predictions for the same tweet?<br />\n",
    "**Answer:** The two models gave different predictions for the sentences containing simple a statement on what time it is, because the `bertweet-base` model puts all of them in neutral and the `distilbert-base` puts all of them in positive. Also the first tweet (\"King vs. Godzilla...\") is labelled as negative by `bertweet-base` \n",
    "and positive by `distilbert-base`. I tend to agree with the `bertweet-base` categorizations.  "
   ]
  }
 ],
 "metadata": {
  "kernelspec": {
   "display_name": "sa",
   "language": "python",
   "name": "python3"
  },
  "language_info": {
   "codemirror_mode": {
    "name": "ipython",
    "version": 3
   },
   "file_extension": ".py",
   "mimetype": "text/x-python",
   "name": "python",
   "nbconvert_exporter": "python",
   "pygments_lexer": "ipython3",
   "version": "3.8.15"
  },
  "vscode": {
   "interpreter": {
    "hash": "654f8977db4e88c947435946478e3f212c9b77e5b629ef93e603ff538f826b04"
   }
  }
 },
 "nbformat": 4,
 "nbformat_minor": 5
}
